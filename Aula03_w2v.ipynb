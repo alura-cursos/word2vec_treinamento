{
  "nbformat": 4,
  "nbformat_minor": 0,
  "metadata": {
    "colab": {
      "name": "Aula03_w2v.ipynb",
      "provenance": []
    },
    "kernelspec": {
      "name": "python3",
      "display_name": "Python 3"
    }
  },
  "cells": [
    {
      "cell_type": "code",
      "metadata": {
        "id": "kDGQFwJTlJ1S",
        "colab_type": "code",
        "colab": {}
      },
      "source": [
        "import pandas as pd\n",
        "import spacy"
      ],
      "execution_count": null,
      "outputs": []
    },
    {
      "cell_type": "code",
      "metadata": {
        "id": "uCoG4JfZlN_X",
        "colab_type": "code",
        "colab": {
          "base_uri": "https://localhost:8080/",
          "height": 289
        },
        "outputId": "578b7eea-16bd-40de-b2a5-d3776f7320f4"
      },
      "source": [
        "dados_treino = pd.read_csv(\"/content/drive/My Drive/curso_word2vec/treino.csv\")\n",
        "dados_treino.sample(5)"
      ],
      "execution_count": null,
      "outputs": [
        {
          "output_type": "execute_result",
          "data": {
            "text/html": [
              "<div>\n",
              "<style scoped>\n",
              "    .dataframe tbody tr th:only-of-type {\n",
              "        vertical-align: middle;\n",
              "    }\n",
              "\n",
              "    .dataframe tbody tr th {\n",
              "        vertical-align: top;\n",
              "    }\n",
              "\n",
              "    .dataframe thead th {\n",
              "        text-align: right;\n",
              "    }\n",
              "</style>\n",
              "<table border=\"1\" class=\"dataframe\">\n",
              "  <thead>\n",
              "    <tr style=\"text-align: right;\">\n",
              "      <th></th>\n",
              "      <th>title</th>\n",
              "      <th>text</th>\n",
              "      <th>date</th>\n",
              "      <th>category</th>\n",
              "      <th>subcategory</th>\n",
              "      <th>link</th>\n",
              "    </tr>\n",
              "  </thead>\n",
              "  <tbody>\n",
              "    <tr>\n",
              "      <th>28222</th>\n",
              "      <td>Buscar salvadores que nos defendam com muros é...</td>\n",
              "      <td>Aludindo ao novo presidente dos EUA, Donald Tr...</td>\n",
              "      <td>2017-01-21</td>\n",
              "      <td>mundo</td>\n",
              "      <td>NaN</td>\n",
              "      <td>http://www1.folha.uol.com.br/mundo/2017/01/185...</td>\n",
              "    </tr>\n",
              "    <tr>\n",
              "      <th>59603</th>\n",
              "      <td>Edu Dracena entra em acordo com a diretoria e ...</td>\n",
              "      <td>O zagueiro Edu Dracena, 33, não é mais jogador...</td>\n",
              "      <td>2015-01-15</td>\n",
              "      <td>esporte</td>\n",
              "      <td>NaN</td>\n",
              "      <td>http://www1.folha.uol.com.br/esporte/2015/01/1...</td>\n",
              "    </tr>\n",
              "    <tr>\n",
              "      <th>43458</th>\n",
              "      <td>Seleção não lamenta adiamento de clássico cont...</td>\n",
              "      <td>O preparador físico da seleção brasileira, Fáb...</td>\n",
              "      <td>2015-12-11</td>\n",
              "      <td>esporte</td>\n",
              "      <td>NaN</td>\n",
              "      <td>http://www1.folha.uol.com.br/esporte/2015/11/1...</td>\n",
              "    </tr>\n",
              "    <tr>\n",
              "      <th>76295</th>\n",
              "      <td>Bomba da 2ª Guerra Mundial provoca retirada de...</td>\n",
              "      <td>Cerca de 54 mil pessoas serão retiradas de sua...</td>\n",
              "      <td>2016-12-25</td>\n",
              "      <td>mundo</td>\n",
              "      <td>NaN</td>\n",
              "      <td>http://www1.folha.uol.com.br/mundo/2016/12/184...</td>\n",
              "    </tr>\n",
              "    <tr>\n",
              "      <th>18099</th>\n",
              "      <td>Se os anos 70 foram de David Bowie, os 80 fora...</td>\n",
              "      <td>Com as mortes de David Bowie e Prince, a músic...</td>\n",
              "      <td>2016-04-22</td>\n",
              "      <td>ilustrada</td>\n",
              "      <td>NaN</td>\n",
              "      <td>http://www1.folha.uol.com.br/ilustrada/2016/04...</td>\n",
              "    </tr>\n",
              "  </tbody>\n",
              "</table>\n",
              "</div>"
            ],
            "text/plain": [
              "                                                   title  ...                                               link\n",
              "28222  Buscar salvadores que nos defendam com muros é...  ...  http://www1.folha.uol.com.br/mundo/2017/01/185...\n",
              "59603  Edu Dracena entra em acordo com a diretoria e ...  ...  http://www1.folha.uol.com.br/esporte/2015/01/1...\n",
              "43458  Seleção não lamenta adiamento de clássico cont...  ...  http://www1.folha.uol.com.br/esporte/2015/11/1...\n",
              "76295  Bomba da 2ª Guerra Mundial provoca retirada de...  ...  http://www1.folha.uol.com.br/mundo/2016/12/184...\n",
              "18099  Se os anos 70 foram de David Bowie, os 80 fora...  ...  http://www1.folha.uol.com.br/ilustrada/2016/04...\n",
              "\n",
              "[5 rows x 6 columns]"
            ]
          },
          "metadata": {
            "tags": []
          },
          "execution_count": 2
        }
      ]
    },
    {
      "cell_type": "code",
      "metadata": {
        "id": "0wkJA2A9l3Ap",
        "colab_type": "code",
        "colab": {
          "base_uri": "https://localhost:8080/",
          "height": 581
        },
        "outputId": "35dcca62-352f-4fae-cd4b-4b853f296394"
      },
      "source": [
        "#Rodas apenas uma vez\n",
        "!python -m spacy download pt_core_news_sm"
      ],
      "execution_count": null,
      "outputs": [
        {
          "output_type": "stream",
          "text": [
            "Collecting pt_core_news_sm==2.2.5\n",
            "\u001b[?25l  Downloading https://github.com/explosion/spacy-models/releases/download/pt_core_news_sm-2.2.5/pt_core_news_sm-2.2.5.tar.gz (21.2MB)\n",
            "\u001b[K     |████████████████████████████████| 21.2MB 89.9MB/s \n",
            "\u001b[?25hRequirement already satisfied: spacy>=2.2.2 in /usr/local/lib/python3.6/dist-packages (from pt_core_news_sm==2.2.5) (2.2.4)\n",
            "Requirement already satisfied: cymem<2.1.0,>=2.0.2 in /usr/local/lib/python3.6/dist-packages (from spacy>=2.2.2->pt_core_news_sm==2.2.5) (2.0.3)\n",
            "Requirement already satisfied: preshed<3.1.0,>=3.0.2 in /usr/local/lib/python3.6/dist-packages (from spacy>=2.2.2->pt_core_news_sm==2.2.5) (3.0.2)\n",
            "Requirement already satisfied: murmurhash<1.1.0,>=0.28.0 in /usr/local/lib/python3.6/dist-packages (from spacy>=2.2.2->pt_core_news_sm==2.2.5) (1.0.2)\n",
            "Requirement already satisfied: catalogue<1.1.0,>=0.0.7 in /usr/local/lib/python3.6/dist-packages (from spacy>=2.2.2->pt_core_news_sm==2.2.5) (1.0.0)\n",
            "Requirement already satisfied: srsly<1.1.0,>=1.0.2 in /usr/local/lib/python3.6/dist-packages (from spacy>=2.2.2->pt_core_news_sm==2.2.5) (1.0.2)\n",
            "Requirement already satisfied: plac<1.2.0,>=0.9.6 in /usr/local/lib/python3.6/dist-packages (from spacy>=2.2.2->pt_core_news_sm==2.2.5) (1.1.3)\n",
            "Requirement already satisfied: thinc==7.4.0 in /usr/local/lib/python3.6/dist-packages (from spacy>=2.2.2->pt_core_news_sm==2.2.5) (7.4.0)\n",
            "Requirement already satisfied: setuptools in /usr/local/lib/python3.6/dist-packages (from spacy>=2.2.2->pt_core_news_sm==2.2.5) (46.4.0)\n",
            "Requirement already satisfied: requests<3.0.0,>=2.13.0 in /usr/local/lib/python3.6/dist-packages (from spacy>=2.2.2->pt_core_news_sm==2.2.5) (2.23.0)\n",
            "Requirement already satisfied: blis<0.5.0,>=0.4.0 in /usr/local/lib/python3.6/dist-packages (from spacy>=2.2.2->pt_core_news_sm==2.2.5) (0.4.1)\n",
            "Requirement already satisfied: tqdm<5.0.0,>=4.38.0 in /usr/local/lib/python3.6/dist-packages (from spacy>=2.2.2->pt_core_news_sm==2.2.5) (4.41.1)\n",
            "Requirement already satisfied: numpy>=1.15.0 in /usr/local/lib/python3.6/dist-packages (from spacy>=2.2.2->pt_core_news_sm==2.2.5) (1.18.4)\n",
            "Requirement already satisfied: wasabi<1.1.0,>=0.4.0 in /usr/local/lib/python3.6/dist-packages (from spacy>=2.2.2->pt_core_news_sm==2.2.5) (0.6.0)\n",
            "Requirement already satisfied: importlib-metadata>=0.20; python_version < \"3.8\" in /usr/local/lib/python3.6/dist-packages (from catalogue<1.1.0,>=0.0.7->spacy>=2.2.2->pt_core_news_sm==2.2.5) (1.6.0)\n",
            "Requirement already satisfied: urllib3!=1.25.0,!=1.25.1,<1.26,>=1.21.1 in /usr/local/lib/python3.6/dist-packages (from requests<3.0.0,>=2.13.0->spacy>=2.2.2->pt_core_news_sm==2.2.5) (1.24.3)\n",
            "Requirement already satisfied: certifi>=2017.4.17 in /usr/local/lib/python3.6/dist-packages (from requests<3.0.0,>=2.13.0->spacy>=2.2.2->pt_core_news_sm==2.2.5) (2020.4.5.1)\n",
            "Requirement already satisfied: idna<3,>=2.5 in /usr/local/lib/python3.6/dist-packages (from requests<3.0.0,>=2.13.0->spacy>=2.2.2->pt_core_news_sm==2.2.5) (2.9)\n",
            "Requirement already satisfied: chardet<4,>=3.0.2 in /usr/local/lib/python3.6/dist-packages (from requests<3.0.0,>=2.13.0->spacy>=2.2.2->pt_core_news_sm==2.2.5) (3.0.4)\n",
            "Requirement already satisfied: zipp>=0.5 in /usr/local/lib/python3.6/dist-packages (from importlib-metadata>=0.20; python_version < \"3.8\"->catalogue<1.1.0,>=0.0.7->spacy>=2.2.2->pt_core_news_sm==2.2.5) (3.1.0)\n",
            "Building wheels for collected packages: pt-core-news-sm\n",
            "  Building wheel for pt-core-news-sm (setup.py) ... \u001b[?25l\u001b[?25hdone\n",
            "  Created wheel for pt-core-news-sm: filename=pt_core_news_sm-2.2.5-cp36-none-any.whl size=21186282 sha256=e6686ba775d01478f4e0e215883920b63ad81fd819ef08daf6ceeaba8f527e86\n",
            "  Stored in directory: /tmp/pip-ephem-wheel-cache-tsi63j7g/wheels/ea/94/74/ec9be8418e9231b471be5dc7e1b45dd670019a376a6b5bc1c0\n",
            "Successfully built pt-core-news-sm\n",
            "Installing collected packages: pt-core-news-sm\n",
            "Successfully installed pt-core-news-sm-2.2.5\n",
            "\u001b[38;5;2m✔ Download and installation successful\u001b[0m\n",
            "You can now load the model via spacy.load('pt_core_news_sm')\n"
          ],
          "name": "stdout"
        }
      ]
    },
    {
      "cell_type": "code",
      "metadata": {
        "id": "4YO1i6fKnHQ1",
        "colab_type": "code",
        "colab": {}
      },
      "source": [
        "nlp = spacy.load(\"pt_core_news_sm\")"
      ],
      "execution_count": null,
      "outputs": []
    },
    {
      "cell_type": "code",
      "metadata": {
        "id": "YPwe50jqmRJk",
        "colab_type": "code",
        "colab": {}
      },
      "source": [
        "texto = \"Rio de Janeiro é uma cidade maravilhosa\"\n",
        "doc = nlp(texto)"
      ],
      "execution_count": null,
      "outputs": []
    },
    {
      "cell_type": "code",
      "metadata": {
        "id": "10H49z91o9wl",
        "colab_type": "code",
        "colab": {
          "base_uri": "https://localhost:8080/",
          "height": 34
        },
        "outputId": "32d63ce8-9a7b-4dad-b212-1bd704103d17"
      },
      "source": [
        "doc"
      ],
      "execution_count": null,
      "outputs": [
        {
          "output_type": "execute_result",
          "data": {
            "text/plain": [
              "Rio de Janeiro é uma cidade maravilhosa"
            ]
          },
          "metadata": {
            "tags": []
          },
          "execution_count": 5
        }
      ]
    },
    {
      "cell_type": "code",
      "metadata": {
        "id": "Cfd0v1-Ws4-2",
        "colab_type": "code",
        "colab": {
          "base_uri": "https://localhost:8080/",
          "height": 34
        },
        "outputId": "6cef1286-225f-4d7c-d86c-9269f8389235"
      },
      "source": [
        "type(doc[2])"
      ],
      "execution_count": null,
      "outputs": [
        {
          "output_type": "execute_result",
          "data": {
            "text/plain": [
              "spacy.tokens.token.Token"
            ]
          },
          "metadata": {
            "tags": []
          },
          "execution_count": 6
        }
      ]
    },
    {
      "cell_type": "code",
      "metadata": {
        "id": "fkVyn-QZieV1",
        "colab_type": "code",
        "colab": {}
      },
      "source": [
        "textos_para_tratamento = (titulos.lower() for titulos in dados_treino[\"title\"])"
      ],
      "execution_count": null,
      "outputs": []
    },
    {
      "cell_type": "code",
      "metadata": {
        "id": "YtSkNlcaiW2w",
        "colab_type": "code",
        "colab": {}
      },
      "source": [
        "def trata_textos(doc):\n",
        "    tokens_validos = []\n",
        "    for token in doc:\n",
        "        e_valido = not token.is_stop and token.is_alpha\n",
        "        if e_valido:\n",
        "            tokens_validos.append(token.text)\n",
        "\n",
        "    if len(tokens_validos) > 2:\n",
        "        return  \" \".join(tokens_validos)\n",
        "\n",
        "texto = \"Rio de Janeiro 1231231 ***** @#$ é uma cidade maravilhosa!\"\n",
        "doc = nlp(texto)\n",
        "trata_textos(doc)"
      ],
      "execution_count": null,
      "outputs": []
    },
    {
      "cell_type": "code",
      "metadata": {
        "id": "VUgzPI_7lWAO",
        "colab_type": "code",
        "colab": {
          "base_uri": "https://localhost:8080/",
          "height": 34
        },
        "outputId": "e84fa86a-0311-4442-baa2-975c73710a12"
      },
      "source": [
        "texto = \"Rio de Janeiro 1231231 ***** @#$ é uma cidade maravilhosa!\"\n",
        "doc = nlp(texto)\n",
        "trata_textos(doc)"
      ],
      "execution_count": null,
      "outputs": [
        {
          "output_type": "execute_result",
          "data": {
            "text/plain": [
              "'Rio Janeiro cidade maravilhosa'"
            ]
          },
          "metadata": {
            "tags": []
          },
          "execution_count": 9
        }
      ]
    },
    {
      "cell_type": "code",
      "metadata": {
        "id": "mF7le_-ziJSI",
        "colab_type": "code",
        "colab": {
          "base_uri": "https://localhost:8080/",
          "height": 34
        },
        "outputId": "10c8c20d-0ad2-439c-af8b-b94d694ecc90"
      },
      "source": [
        "from time import time\n",
        "\n",
        "t0 = time()\n",
        "textos_tratados = [trata_textos(doc) for doc in nlp.pipe(textos_para_tratamento,\n",
        "                                                        batch_size = 1000,\n",
        "                                                        n_process = -1)]\n",
        "\n",
        "tf = time() - t0\n",
        "\n",
        "print(tf/60)"
      ],
      "execution_count": null,
      "outputs": [
        {
          "output_type": "stream",
          "text": [
            "3.3800423622131346\n"
          ],
          "name": "stdout"
        }
      ]
    },
    {
      "cell_type": "code",
      "metadata": {
        "id": "XWnZ5g_tsp3v",
        "colab_type": "code",
        "colab": {
          "base_uri": "https://localhost:8080/",
          "height": 204
        },
        "outputId": "cec379bd-6715-414b-d185-459dca02227b"
      },
      "source": [
        "titulos_tratados = pd.DataFrame({\"titulo\": textos_tratados})\n",
        "titulos_tratados.head()"
      ],
      "execution_count": null,
      "outputs": [
        {
          "output_type": "execute_result",
          "data": {
            "text/html": [
              "<div>\n",
              "<style scoped>\n",
              "    .dataframe tbody tr th:only-of-type {\n",
              "        vertical-align: middle;\n",
              "    }\n",
              "\n",
              "    .dataframe tbody tr th {\n",
              "        vertical-align: top;\n",
              "    }\n",
              "\n",
              "    .dataframe thead th {\n",
              "        text-align: right;\n",
              "    }\n",
              "</style>\n",
              "<table border=\"1\" class=\"dataframe\">\n",
              "  <thead>\n",
              "    <tr style=\"text-align: right;\">\n",
              "      <th></th>\n",
              "      <th>titulo</th>\n",
              "    </tr>\n",
              "  </thead>\n",
              "  <tbody>\n",
              "    <tr>\n",
              "      <th>0</th>\n",
              "      <td>polêmica marine le pen abomina negacionistas h...</td>\n",
              "    </tr>\n",
              "    <tr>\n",
              "      <th>1</th>\n",
              "      <td>macron e le pen a o turno frança revés siglas ...</td>\n",
              "    </tr>\n",
              "    <tr>\n",
              "      <th>2</th>\n",
              "      <td>apesar larga vitória legislativas macron terá ...</td>\n",
              "    </tr>\n",
              "    <tr>\n",
              "      <th>3</th>\n",
              "      <td>governo antecipa balanço e alckmin anuncia que...</td>\n",
              "    </tr>\n",
              "    <tr>\n",
              "      <th>4</th>\n",
              "      <td>queda maio a atividade econômica sobe junho bc</td>\n",
              "    </tr>\n",
              "  </tbody>\n",
              "</table>\n",
              "</div>"
            ],
            "text/plain": [
              "                                              titulo\n",
              "0  polêmica marine le pen abomina negacionistas h...\n",
              "1  macron e le pen a o turno frança revés siglas ...\n",
              "2  apesar larga vitória legislativas macron terá ...\n",
              "3  governo antecipa balanço e alckmin anuncia que...\n",
              "4     queda maio a atividade econômica sobe junho bc"
            ]
          },
          "metadata": {
            "tags": []
          },
          "execution_count": 11
        }
      ]
    },
    {
      "cell_type": "code",
      "metadata": {
        "id": "2ig6PjO_l5ED",
        "colab_type": "code",
        "colab": {}
      },
      "source": [
        "from gensim.models import Word2Vec\n",
        "\n",
        "w2v_modelo = Word2Vec(sg = 0,\n",
        "                      window = 2,\n",
        "                      size = 300,\n",
        "                      min_count = 5,\n",
        "                      alpha = 0.03,\n",
        "                      min_alpha = 0.007)"
      ],
      "execution_count": null,
      "outputs": []
    },
    {
      "cell_type": "code",
      "metadata": {
        "id": "Cf_nt4YfrT8U",
        "colab_type": "code",
        "colab": {
          "base_uri": "https://localhost:8080/",
          "height": 34
        },
        "outputId": "cc07e543-1485-4d51-ec7e-bcbdd24c515a"
      },
      "source": [
        "w2v_modelo"
      ],
      "execution_count": null,
      "outputs": [
        {
          "output_type": "execute_result",
          "data": {
            "text/plain": [
              "<gensim.models.word2vec.Word2Vec at 0x7f98d8a156d8>"
            ]
          },
          "metadata": {
            "tags": []
          },
          "execution_count": 13
        }
      ]
    },
    {
      "cell_type": "code",
      "metadata": {
        "id": "y07x7J0Y1ubP",
        "colab_type": "code",
        "colab": {
          "base_uri": "https://localhost:8080/",
          "height": 50
        },
        "outputId": "1bde9a2a-ca0b-4794-b540-77a9e9fe53af"
      },
      "source": [
        "print(len(titulos_tratados))\n",
        "titulos_tratados = titulos_tratados.dropna().drop_duplicates()\n",
        "print(len(titulos_tratados))"
      ],
      "execution_count": null,
      "outputs": [
        {
          "output_type": "stream",
          "text": [
            "90000\n",
            "86113\n"
          ],
          "name": "stdout"
        }
      ]
    },
    {
      "cell_type": "code",
      "metadata": {
        "id": "BtwjbDVH1OWt",
        "colab_type": "code",
        "colab": {}
      },
      "source": [
        "lista_lista_tokens = [titulo.split(\" \") for titulo in titulos_tratados.titulo]"
      ],
      "execution_count": null,
      "outputs": []
    },
    {
      "cell_type": "code",
      "metadata": {
        "id": "TGTR359Q25oP",
        "colab_type": "code",
        "colab": {
          "base_uri": "https://localhost:8080/",
          "height": 487
        },
        "outputId": "ada7b6e9-90d9-449a-88c9-472fb69e19b4"
      },
      "source": [
        "import logging\n",
        "\n",
        "logging.basicConfig(format=\"%(asctime)s : - %(message)s\", level = logging.INFO)\n",
        "\n",
        "w2v_modelo = Word2Vec(sg = 0,\n",
        "                      window = 2,\n",
        "                      size = 300,\n",
        "                      min_count = 5,\n",
        "                      alpha = 0.03,\n",
        "                      min_alpha = 0.007)\n",
        "\n",
        "w2v_modelo.build_vocab(lista_lista_tokens, progress_per=5000)"
      ],
      "execution_count": null,
      "outputs": [
        {
          "output_type": "stream",
          "text": [
            "2020-05-28 13:18:49,960 : - collecting all words and their counts\n",
            "2020-05-28 13:18:49,962 : - PROGRESS: at sentence #0, processed 0 words, keeping 0 word types\n",
            "2020-05-28 13:18:49,978 : - PROGRESS: at sentence #5000, processed 34716 words, keeping 10129 word types\n",
            "2020-05-28 13:18:49,995 : - PROGRESS: at sentence #10000, processed 69298 words, keeping 14909 word types\n",
            "2020-05-28 13:18:50,011 : - PROGRESS: at sentence #15000, processed 103841 words, keeping 18223 word types\n",
            "2020-05-28 13:18:50,029 : - PROGRESS: at sentence #20000, processed 138620 words, keeping 20969 word types\n",
            "2020-05-28 13:18:50,042 : - PROGRESS: at sentence #25000, processed 173257 words, keeping 23410 word types\n",
            "2020-05-28 13:18:50,059 : - PROGRESS: at sentence #30000, processed 207976 words, keeping 25453 word types\n",
            "2020-05-28 13:18:50,074 : - PROGRESS: at sentence #35000, processed 242567 words, keeping 27263 word types\n",
            "2020-05-28 13:18:50,087 : - PROGRESS: at sentence #40000, processed 277254 words, keeping 28992 word types\n",
            "2020-05-28 13:18:50,102 : - PROGRESS: at sentence #45000, processed 311910 words, keeping 30561 word types\n",
            "2020-05-28 13:18:50,118 : - PROGRESS: at sentence #50000, processed 346641 words, keeping 31924 word types\n",
            "2020-05-28 13:18:50,137 : - PROGRESS: at sentence #55000, processed 381564 words, keeping 33224 word types\n",
            "2020-05-28 13:18:50,154 : - PROGRESS: at sentence #60000, processed 416318 words, keeping 34458 word types\n",
            "2020-05-28 13:18:50,171 : - PROGRESS: at sentence #65000, processed 451172 words, keeping 35585 word types\n",
            "2020-05-28 13:18:50,188 : - PROGRESS: at sentence #70000, processed 485882 words, keeping 36651 word types\n",
            "2020-05-28 13:18:50,202 : - PROGRESS: at sentence #75000, processed 520667 words, keeping 37767 word types\n",
            "2020-05-28 13:18:50,220 : - PROGRESS: at sentence #80000, processed 555521 words, keeping 38741 word types\n",
            "2020-05-28 13:18:50,235 : - PROGRESS: at sentence #85000, processed 590198 words, keeping 39739 word types\n",
            "2020-05-28 13:18:50,240 : - collected 39968 word types from a corpus of 597929 raw words and 86113 sentences\n",
            "2020-05-28 13:18:50,241 : - Loading a fresh vocabulary\n",
            "2020-05-28 13:18:50,476 : - effective_min_count=5 retains 13006 unique words (32% of original 39968, drops 26962)\n",
            "2020-05-28 13:18:50,477 : - effective_min_count=5 leaves 552614 word corpus (92% of original 597929, drops 45315)\n",
            "2020-05-28 13:18:50,524 : - deleting the raw counts dictionary of 39968 items\n",
            "2020-05-28 13:18:50,526 : - sample=0.001 downsamples 11 most-common words\n",
            "2020-05-28 13:18:50,527 : - downsampling leaves estimated 502900 word corpus (91.0% of prior 552614)\n",
            "2020-05-28 13:18:50,581 : - estimated required memory for 13006 words and 300 dimensions: 37717400 bytes\n",
            "2020-05-28 13:18:50,582 : - resetting layer weights\n"
          ],
          "name": "stderr"
        }
      ]
    },
    {
      "cell_type": "code",
      "metadata": {
        "id": "Ii643vR80g3K",
        "colab_type": "code",
        "colab": {}
      },
      "source": [
        ""
      ],
      "execution_count": null,
      "outputs": []
    }
  ]
}