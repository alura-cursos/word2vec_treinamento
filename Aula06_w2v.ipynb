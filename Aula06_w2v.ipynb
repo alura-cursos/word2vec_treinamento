{
  "nbformat": 4,
  "nbformat_minor": 0,
  "metadata": {
    "colab": {
      "name": "Aula06_w2v.ipynb",
      "provenance": []
    },
    "kernelspec": {
      "name": "python3",
      "display_name": "Python 3"
    }
  },
  "cells": [
    {
      "cell_type": "code",
      "metadata": {
        "id": "lwFC0pOSITsz",
        "colab_type": "code",
        "colab": {
          "base_uri": "https://localhost:8080/",
          "height": 619
        },
        "outputId": "f5b6b875-ef14-4389-dbfb-6fe5cbb25fac"
      },
      "source": [
        "!python -m spacy download pt_core_news_sm"
      ],
      "execution_count": null,
      "outputs": [
        {
          "output_type": "stream",
          "text": [
            "Collecting pt_core_news_sm==2.2.5\n",
            "\u001b[?25l  Downloading https://github.com/explosion/spacy-models/releases/download/pt_core_news_sm-2.2.5/pt_core_news_sm-2.2.5.tar.gz (21.2MB)\n",
            "\u001b[K     |████████████████████████████████| 21.2MB 1.2MB/s \n",
            "\u001b[?25hRequirement already satisfied: spacy>=2.2.2 in /usr/local/lib/python3.6/dist-packages (from pt_core_news_sm==2.2.5) (2.2.4)\n",
            "Requirement already satisfied: murmurhash<1.1.0,>=0.28.0 in /usr/local/lib/python3.6/dist-packages (from spacy>=2.2.2->pt_core_news_sm==2.2.5) (1.0.2)\n",
            "Requirement already satisfied: setuptools in /usr/local/lib/python3.6/dist-packages (from spacy>=2.2.2->pt_core_news_sm==2.2.5) (47.1.1)\n",
            "Requirement already satisfied: tqdm<5.0.0,>=4.38.0 in /usr/local/lib/python3.6/dist-packages (from spacy>=2.2.2->pt_core_news_sm==2.2.5) (4.41.1)\n",
            "Requirement already satisfied: wasabi<1.1.0,>=0.4.0 in /usr/local/lib/python3.6/dist-packages (from spacy>=2.2.2->pt_core_news_sm==2.2.5) (0.6.0)\n",
            "Requirement already satisfied: plac<1.2.0,>=0.9.6 in /usr/local/lib/python3.6/dist-packages (from spacy>=2.2.2->pt_core_news_sm==2.2.5) (1.1.3)\n",
            "Requirement already satisfied: preshed<3.1.0,>=3.0.2 in /usr/local/lib/python3.6/dist-packages (from spacy>=2.2.2->pt_core_news_sm==2.2.5) (3.0.2)\n",
            "Requirement already satisfied: catalogue<1.1.0,>=0.0.7 in /usr/local/lib/python3.6/dist-packages (from spacy>=2.2.2->pt_core_news_sm==2.2.5) (1.0.0)\n",
            "Requirement already satisfied: srsly<1.1.0,>=1.0.2 in /usr/local/lib/python3.6/dist-packages (from spacy>=2.2.2->pt_core_news_sm==2.2.5) (1.0.2)\n",
            "Requirement already satisfied: cymem<2.1.0,>=2.0.2 in /usr/local/lib/python3.6/dist-packages (from spacy>=2.2.2->pt_core_news_sm==2.2.5) (2.0.3)\n",
            "Requirement already satisfied: numpy>=1.15.0 in /usr/local/lib/python3.6/dist-packages (from spacy>=2.2.2->pt_core_news_sm==2.2.5) (1.18.5)\n",
            "Requirement already satisfied: blis<0.5.0,>=0.4.0 in /usr/local/lib/python3.6/dist-packages (from spacy>=2.2.2->pt_core_news_sm==2.2.5) (0.4.1)\n",
            "Requirement already satisfied: requests<3.0.0,>=2.13.0 in /usr/local/lib/python3.6/dist-packages (from spacy>=2.2.2->pt_core_news_sm==2.2.5) (2.23.0)\n",
            "Requirement already satisfied: thinc==7.4.0 in /usr/local/lib/python3.6/dist-packages (from spacy>=2.2.2->pt_core_news_sm==2.2.5) (7.4.0)\n",
            "Requirement already satisfied: importlib-metadata>=0.20; python_version < \"3.8\" in /usr/local/lib/python3.6/dist-packages (from catalogue<1.1.0,>=0.0.7->spacy>=2.2.2->pt_core_news_sm==2.2.5) (1.6.0)\n",
            "Requirement already satisfied: idna<3,>=2.5 in /usr/local/lib/python3.6/dist-packages (from requests<3.0.0,>=2.13.0->spacy>=2.2.2->pt_core_news_sm==2.2.5) (2.9)\n",
            "Requirement already satisfied: certifi>=2017.4.17 in /usr/local/lib/python3.6/dist-packages (from requests<3.0.0,>=2.13.0->spacy>=2.2.2->pt_core_news_sm==2.2.5) (2020.4.5.1)\n",
            "Requirement already satisfied: urllib3!=1.25.0,!=1.25.1,<1.26,>=1.21.1 in /usr/local/lib/python3.6/dist-packages (from requests<3.0.0,>=2.13.0->spacy>=2.2.2->pt_core_news_sm==2.2.5) (1.24.3)\n",
            "Requirement already satisfied: chardet<4,>=3.0.2 in /usr/local/lib/python3.6/dist-packages (from requests<3.0.0,>=2.13.0->spacy>=2.2.2->pt_core_news_sm==2.2.5) (3.0.4)\n",
            "Requirement already satisfied: zipp>=0.5 in /usr/local/lib/python3.6/dist-packages (from importlib-metadata>=0.20; python_version < \"3.8\"->catalogue<1.1.0,>=0.0.7->spacy>=2.2.2->pt_core_news_sm==2.2.5) (3.1.0)\n",
            "Building wheels for collected packages: pt-core-news-sm\n",
            "  Building wheel for pt-core-news-sm (setup.py) ... \u001b[?25l\u001b[?25hdone\n",
            "  Created wheel for pt-core-news-sm: filename=pt_core_news_sm-2.2.5-cp36-none-any.whl size=21186282 sha256=df6ee75af88f9b3333c2060ca53837f914e4409fe9f7db97038f1749b0b6cc23\n",
            "  Stored in directory: /tmp/pip-ephem-wheel-cache-kenjx6eq/wheels/ea/94/74/ec9be8418e9231b471be5dc7e1b45dd670019a376a6b5bc1c0\n",
            "Successfully built pt-core-news-sm\n",
            "Installing collected packages: pt-core-news-sm\n",
            "Successfully installed pt-core-news-sm-2.2.5\n",
            "\u001b[38;5;2m✔ Download and installation successful\u001b[0m\n",
            "You can now load the model via spacy.load('pt_core_news_sm')\n"
          ],
          "name": "stdout"
        }
      ]
    },
    {
      "cell_type": "code",
      "metadata": {
        "id": "bx8rtu0JZiMx",
        "colab_type": "code",
        "colab": {}
      },
      "source": [
        ""
      ],
      "execution_count": null,
      "outputs": []
    },
    {
      "cell_type": "code",
      "metadata": {
        "id": "kmUZvse1UCVb",
        "colab_type": "code",
        "colab": {
          "base_uri": "https://localhost:8080/",
          "height": 74
        },
        "outputId": "2e2aa1b8-a0d1-4f28-8244-046ea458d42a"
      },
      "source": [
        "import spacy\n",
        "import numpy as np\n",
        "import pandas as pd\n",
        "from gensim.models import KeyedVectors\n",
        "\n",
        "w2v_modelo_cbow = KeyedVectors.load_word2vec_format(\"/content/drive/My Drive/curso_word2vec/modelo_cbow.txt\")\n",
        "w2v_modelo_sg = KeyedVectors.load_word2vec_format(\"/content/drive/My Drive/curso_word2vec/modelo_skipgram.txt\")\n",
        "artigo_treino = pd.read_csv(\"/content/drive/My Drive/curso_word2vec/treino.csv\")\n",
        "artigo_teste = pd.read_csv(\"/content/drive/My Drive/curso_word2vec/teste.csv\")"
      ],
      "execution_count": null,
      "outputs": [
        {
          "output_type": "stream",
          "text": [
            "/usr/local/lib/python3.6/dist-packages/smart_open/smart_open_lib.py:253: UserWarning: This function is deprecated, use smart_open.open instead. See the migration notes for details: https://github.com/RaRe-Technologies/smart_open/blob/master/README.rst#migrating-to-the-new-open-function\n",
            "  'See the migration notes for details: %s' % _MIGRATION_NOTES_URL\n"
          ],
          "name": "stderr"
        }
      ]
    },
    {
      "cell_type": "code",
      "metadata": {
        "id": "0X5lI4-NSlRI",
        "colab_type": "code",
        "colab": {
          "base_uri": "https://localhost:8080/",
          "height": 35
        },
        "outputId": "04266ca0-0d79-4016-877a-7b66480859e4"
      },
      "source": [
        "nlp = spacy.load(\"pt_core_news_sm\", disable=[\"paser\", \"ner\", \"tagger\", \"textcat\"])\n",
        "\n",
        "def tokenizador(texto):\n",
        "    \n",
        "    doc = nlp(texto)\n",
        "    tokens_validos = []\n",
        "    for token in doc:\n",
        "        e_valido = not token.is_stop and token.is_alpha\n",
        "        if e_valido:\n",
        "            tokens_validos.append(token.text.lower())\n",
        "\n",
        "    \n",
        "    return  tokens_validos\n",
        "\n",
        "texto = \"Rio de Janeiro 1231231 ***** @#$ é uma cidade maravilhosa!\"\n",
        "tokens = tokenizador(texto)\n",
        "print(tokens)"
      ],
      "execution_count": null,
      "outputs": [
        {
          "output_type": "stream",
          "text": [
            "['rio', 'janeiro', 'cidade', 'maravilhosa']\n"
          ],
          "name": "stdout"
        }
      ]
    },
    {
      "cell_type": "code",
      "metadata": {
        "id": "2_GCypILSVga",
        "colab_type": "code",
        "colab": {
          "base_uri": "https://localhost:8080/",
          "height": 1000
        },
        "outputId": "012711bc-b25b-41fe-ec06-188041c70091"
      },
      "source": [
        "def combinacao_de_vetores_por_soma(palavras, modelo):\n",
        "\n",
        "    vetor_resultante = np.zeros((1,300))\n",
        "\n",
        "    for pn in palavras:\n",
        "        try:\n",
        "            vetor_resultante += modelo.get_vector(pn)\n",
        "\n",
        "        except KeyError:\n",
        "            pass\n",
        "                \n",
        "\n",
        "    return vetor_resultante\n",
        "\n",
        "vetor_texto = combinacao_de_vetores_por_soma(tokens, w2v_modelo_cbow)\n",
        "print(vetor_texto.shape)\n",
        "print(vetor_texto)"
      ],
      "execution_count": null,
      "outputs": [
        {
          "output_type": "stream",
          "text": [
            "(1, 300)\n",
            "[[ 1.98463321e-01  6.81657493e-02  1.46854076e+00 -3.64254490e-01\n",
            "   1.43774167e-01  8.67518850e-01  5.45219969e-01  1.10110116e+00\n",
            "  -6.50840998e-01 -3.40783868e+00  1.01653042e+00  1.33011723e+00\n",
            "   2.09624138e+00 -1.38510185e+00  1.47641352e+00  1.86899729e+00\n",
            "  -1.59593132e+00  3.16831052e-01 -9.20437280e-01 -6.29614353e-01\n",
            "   7.00041652e-02 -1.95808137e+00  7.94665724e-01 -7.24693198e-01\n",
            "   1.39489579e+00  1.73469097e+00  1.26399602e+00 -1.10639864e+00\n",
            "  -1.78198762e+00 -3.93549776e+00  2.81366953e+00 -2.87773656e-02\n",
            "  -2.41185263e-01  2.14455798e-01  9.56606358e-01  1.02985160e+00\n",
            "   1.33243561e+00  3.73910588e+00 -3.42612457e+00  2.09202743e+00\n",
            "   2.08773389e+00  6.37439638e-01 -1.93942163e-01 -1.25078782e+00\n",
            "  -1.34374684e+00  5.62602848e-01 -2.27634996e+00 -1.38811620e+00\n",
            "   8.86206836e-01 -1.02591036e+00 -9.22529399e-01 -8.44487831e-01\n",
            "   1.45723258e+00  6.67459078e-01  3.34969163e-01  9.08002794e-01\n",
            "  -2.67864984e+00 -3.10524291e+00 -2.00997367e+00  3.95785213e-01\n",
            "  -1.44439277e+00 -2.51032397e-01 -4.45651762e-01 -4.12870246e+00\n",
            "   8.90532818e-01 -2.01850063e+00  2.95132813e+00 -1.63505590e+00\n",
            "   9.72207695e-01  2.13555911e+00  2.66578168e-01  9.44992900e-01\n",
            "   1.32113317e+00  2.04084900e+00 -6.31301859e-02 -1.96614408e+00\n",
            "   3.37847590e-01 -1.42520127e+00 -6.70336679e-01 -2.11732349e+00\n",
            "   1.25186447e+00  1.68659431e+00  2.66411901e-01 -1.36801040e+00\n",
            "  -7.10758269e-02  2.59357110e-01  1.35773395e+00 -1.19595477e+00\n",
            "   3.53217840e-01 -9.13123883e-01 -1.31754772e+00 -1.18083102e+00\n",
            "  -1.60925594e+00  3.04497349e+00 -8.72487605e-01 -2.93044001e-03\n",
            "  -4.54608804e-01  4.46252763e-01  1.28295647e+00 -2.14980584e+00\n",
            "  -1.38042204e-01  2.46452904e+00  5.66329088e-01 -3.96781638e-01\n",
            "  -1.23308067e+00  9.97751549e-01 -1.18590638e+00 -2.74670758e+00\n",
            "  -7.14877024e-02 -1.80906725e+00 -2.86876589e-01  1.17532640e+00\n",
            "   4.07069802e-01 -1.18419093e+00  6.93305757e-01 -2.79858029e+00\n",
            "   4.96671587e-01  3.88392419e-01 -4.09445107e-01 -1.69088084e+00\n",
            "  -1.14192608e+00  7.89269388e-01 -1.78837532e+00  3.12441923e-01\n",
            "   6.15936384e-01 -9.91583828e-01 -8.81297372e-01 -1.59514508e+00\n",
            "  -3.38194042e-01  2.77336282e+00  1.12952733e+00  6.69487022e-01\n",
            "  -2.23740930e+00  8.20634864e-01 -1.06027731e+00 -2.66822523e+00\n",
            "  -6.32109344e-02 -1.37821612e+00 -1.17251796e+00 -3.55709307e-01\n",
            "  -6.62426069e-01 -6.71470022e-01 -1.30925279e+00  4.03758295e-01\n",
            "   2.02564555e+00  1.12515477e+00 -7.28528088e-01 -7.24116253e-01\n",
            "  -7.51860611e-01 -1.38165611e+00 -7.10942745e-01  6.62908029e-01\n",
            "   1.17665827e+00 -4.10100482e-01 -1.48235688e+00 -2.04781182e-01\n",
            "  -1.23201726e+00  1.08064251e+00 -1.18060405e+00  2.68656611e-01\n",
            "   1.26690385e+00  2.07529679e+00 -4.95851181e-01  2.12786660e+00\n",
            "  -4.10504162e-01 -1.03434661e-01  1.00728732e+00 -1.17085938e+00\n",
            "   7.91757107e-01  2.06468908e+00 -9.36222613e-01 -8.09373602e-01\n",
            "  -1.38570577e+00  2.13664442e+00  2.33163209e-01  1.47312683e+00\n",
            "   8.24551042e-01  2.29994901e+00 -6.97336387e-01  6.98023049e-01\n",
            "   2.52935290e-01 -1.18311670e+00 -3.79771441e-01  4.99876723e-01\n",
            "   3.79301339e-01 -2.19207451e-01  1.66882064e+00 -6.41706962e-01\n",
            "  -2.13766876e+00  7.44811505e-01 -3.76184583e-01 -2.09537953e+00\n",
            "   3.53986967e+00  1.52019766e+00  8.83280393e-01  2.09651017e+00\n",
            "   7.47494064e-02 -5.92749387e-01  5.30278683e-01  5.17430790e-01\n",
            "   1.05905410e-01  1.57121648e+00 -7.50485867e-01 -6.99034393e-01\n",
            "   1.92299291e-01 -1.27268235e-01  5.42483386e-01  5.62549770e-01\n",
            "   8.74887835e-01 -1.10270411e+00  1.92472655e+00  4.84076954e-01\n",
            "   4.90025664e-01  8.58439088e-01  1.54760518e+00 -2.28136891e+00\n",
            "  -1.18459088e+00  1.09139114e+00  1.43678635e-01  9.29474797e-01\n",
            "  -1.56311296e+00  2.50907300e+00  5.98837972e-01  2.32589990e-02\n",
            "  -1.10612132e+00 -1.24443305e+00  3.99853408e-01 -1.93480998e-01\n",
            "   9.00986910e-01 -6.75875485e-01  1.94404826e-01 -7.21047997e-01\n",
            "   1.91384749e+00 -3.15805918e+00  1.01168230e-02 -5.83662808e-01\n",
            "  -1.31580937e+00 -2.20993680e+00 -9.91954342e-01  8.66983831e-01\n",
            "  -2.31047937e+00 -7.64117956e-01  1.18558701e+00 -1.46488771e+00\n",
            "  -3.23397577e-01  2.19223410e-01  8.51200102e-01 -1.42025486e-01\n",
            "  -3.46244995e-01 -1.50617509e+00 -5.46980679e-01 -1.28510725e+00\n",
            "  -3.88785839e-01  1.15616289e+00 -2.34872121e-01 -1.50918727e+00\n",
            "  -2.26066348e+00  4.65306818e-01 -2.48372585e-01  9.92207192e-01\n",
            "   1.38190567e-01 -1.41022006e+00 -2.82525501e+00  6.87229935e-01\n",
            "   9.62689796e-01 -3.25991720e-01  3.15196460e+00  4.55391541e-01\n",
            "   9.17801008e-01  9.43651915e-01 -7.63600901e-01  8.58660602e-01\n",
            "   1.29233295e+00 -4.67246175e-02  3.51564065e-01  2.21975364e-01\n",
            "  -8.75412375e-02  1.73005044e-01 -1.27859987e+00 -2.57941461e+00\n",
            "  -2.04670718e+00 -9.41399142e-01 -2.75735289e-01  1.37583555e+00\n",
            "   2.37762845e+00  4.69325930e-01  5.68931026e-01  3.31017710e-01\n",
            "  -2.77776279e+00 -1.78476749e+00  2.09891133e-01 -4.68507094e-01\n",
            "  -8.44822943e-01  1.59221818e+00 -7.10642338e-03 -3.36731445e-01\n",
            "  -7.84925498e-01 -1.30478811e+00 -8.93859327e-01  1.92370141e+00]]\n"
          ],
          "name": "stdout"
        }
      ]
    },
    {
      "cell_type": "code",
      "metadata": {
        "id": "CSXjHM9sSQY8",
        "colab_type": "code",
        "colab": {
          "base_uri": "https://localhost:8080/",
          "height": 54
        },
        "outputId": "74f5a18c-daed-40ee-cd07-b3a80806086f"
      },
      "source": [
        "def matriz_vetores(textos, modelo):\n",
        "    x = len(textos)\n",
        "    y = 300\n",
        "    matriz = np.zeros((x,y))\n",
        "\n",
        "    for i in range(x):\n",
        "        palavras = tokenizador(textos.iloc[i])\n",
        "        matriz[i] = combinacao_de_vetores_por_soma(palavras, modelo)\n",
        "\n",
        "    return matriz\n",
        "\n",
        "matriz_vetores_treino_cbow = matriz_vetores(artigo_treino.title, w2v_modelo_cbow)\n",
        "matriz_vetores_teste_cbow = matriz_vetores(artigo_teste.title, w2v_modelo_cbow)\n",
        "print(matriz_vetores_treino_cbow.shape)\n",
        "print(matriz_vetores_teste_cbow.shape) "
      ],
      "execution_count": null,
      "outputs": [
        {
          "output_type": "stream",
          "text": [
            "(90000, 300)\n",
            "(20513, 300)\n"
          ],
          "name": "stdout"
        }
      ]
    },
    {
      "cell_type": "code",
      "metadata": {
        "id": "tr5VDmj3lkf0",
        "colab_type": "code",
        "colab": {
          "base_uri": "https://localhost:8080/",
          "height": 254
        },
        "outputId": "bd25ca15-9b5f-43cb-dab1-00df472b69b4"
      },
      "source": [
        "from sklearn.linear_model import LogisticRegression\n",
        "from sklearn.metrics import classification_report\n",
        "\n",
        "def classificador(modelo, x_treino, y_treino, x_teste, y_teste):\n",
        "\n",
        "    RL = LogisticRegression(max_iter = 800)\n",
        "    RL.fit(x_treino, y_treino)\n",
        "    categorias = RL.predict(x_teste)\n",
        "    resultados = classification_report(y_teste, categorias)\n",
        "    print(resultados)\n",
        "    \n",
        "    return RL\n",
        "\n",
        "RL_cbow = classificador(w2v_modelo_cbow,\n",
        "                        matriz_vetores_treino_cbow,\n",
        "                        artigo_treino.category,\n",
        "                        matriz_vetores_teste_cbow,\n",
        "                        artigo_teste.category)"
      ],
      "execution_count": null,
      "outputs": [
        {
          "output_type": "stream",
          "text": [
            "              precision    recall  f1-score   support\n",
            "\n",
            "     colunas       0.81      0.71      0.76      6103\n",
            "   cotidiano       0.63      0.81      0.71      1698\n",
            "     esporte       0.93      0.86      0.89      4663\n",
            "   ilustrada       0.13      0.86      0.23       131\n",
            "     mercado       0.84      0.78      0.81      5867\n",
            "       mundo       0.74      0.84      0.79      2051\n",
            "\n",
            "    accuracy                           0.79     20513\n",
            "   macro avg       0.68      0.81      0.70     20513\n",
            "weighted avg       0.82      0.79      0.80     20513\n",
            "\n"
          ],
          "name": "stdout"
        }
      ]
    },
    {
      "cell_type": "code",
      "metadata": {
        "id": "WlKOJ9AGsseD",
        "colab_type": "code",
        "colab": {
          "base_uri": "https://localhost:8080/",
          "height": 254
        },
        "outputId": "120d2f70-2fb9-4c7d-eb46-761e9ac35939"
      },
      "source": [
        "matriz_vetores_treino_sg = matriz_vetores(artigo_treino.title, w2v_modelo_sg)\n",
        "matriz_vetores_teste_sg = matriz_vetores(artigo_teste.title, w2v_modelo_sg)\n",
        "\n",
        "RL_sg = classificador(w2v_modelo_sg,\n",
        "                        matriz_vetores_treino_sg,\n",
        "                        artigo_treino.category,\n",
        "                        matriz_vetores_teste_sg,\n",
        "                        artigo_teste.category)"
      ],
      "execution_count": null,
      "outputs": [
        {
          "output_type": "stream",
          "text": [
            "              precision    recall  f1-score   support\n",
            "\n",
            "     colunas       0.81      0.72      0.76      6103\n",
            "   cotidiano       0.64      0.81      0.71      1698\n",
            "     esporte       0.93      0.88      0.90      4663\n",
            "   ilustrada       0.14      0.89      0.24       131\n",
            "     mercado       0.84      0.79      0.82      5867\n",
            "       mundo       0.75      0.84      0.79      2051\n",
            "\n",
            "    accuracy                           0.80     20513\n",
            "   macro avg       0.69      0.82      0.71     20513\n",
            "weighted avg       0.82      0.80      0.81     20513\n",
            "\n"
          ],
          "name": "stdout"
        }
      ]
    },
    {
      "cell_type": "code",
      "metadata": {
        "id": "q8mAwV5ctfxI",
        "colab_type": "code",
        "colab": {}
      },
      "source": [
        "import pickle\n",
        "\n",
        "with open(\"/content/drive/My Drive/curso_word2vec/rl_cbow.pkl\", \"wb\") as f:\n",
        "    pickle.dump(RL_cbow, f)"
      ],
      "execution_count": null,
      "outputs": []
    },
    {
      "cell_type": "code",
      "metadata": {
        "id": "1Y6OxXfNwzuz",
        "colab_type": "code",
        "colab": {}
      },
      "source": [
        "with open(\"/content/drive/My Drive/curso_word2vec/rl_sg.pkl\", \"wb\") as f:\n",
        "    pickle.dump(RL_sg, f)"
      ],
      "execution_count": null,
      "outputs": []
    },
    {
      "cell_type": "code",
      "metadata": {
        "id": "G_7AzIj_w8Hb",
        "colab_type": "code",
        "colab": {}
      },
      "source": [
        ""
      ],
      "execution_count": null,
      "outputs": []
    }
  ]
}